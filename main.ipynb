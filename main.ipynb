{
 "cells": [
  {
   "cell_type": "code",
   "execution_count": null,
   "metadata": {},
   "outputs": [],
   "source": [
    "%pip install -r requirements.txt"
   ]
  },
  {
   "attachments": {},
   "cell_type": "markdown",
   "metadata": {},
   "source": [
    "### Prompts\n",
    "\n",
    "*Please provide charts and numerical analysis to prove your points*\n",
    "\n",
    "- In the past month,when would have been the best time to sell?\n",
    "> *Your response*\n",
    "\n",
    "- In the past week, when would have been the best time to buy?\n",
    "> *Your response*\n",
    "\n",
    "- Is there a significant difference in the prices of this month versus last month?\n",
    "> *Your response*\n",
    "\n"
   ]
  },
  {
   "cell_type": "code",
   "execution_count": null,
   "metadata": {},
   "outputs": [],
   "source": [
    "import requests\n",
    "from dotenv import load_dotenv\n",
    "import os\n",
    "\n",
    "import pandas as pd\n",
    "import numpy as np\n",
    "import altair as alt\n",
    "\n",
    "load_dotenv(\".env\")\n",
    "API_KEY = os.environ.get(\"API_KEY\")\n",
    "if not API_KEY:\n",
    "    print(\"Loading failed.\")"
   ]
  },
  {
   "cell_type": "code",
   "execution_count": null,
   "metadata": {},
   "outputs": [],
   "source": [
    "res = requests.get(f\"https://www.alphavantage.co/query?function=TIME_SERIES_INTRADAY&symbol=IBM&interval=5min&apikey={API_KEY}\")\n",
    "if res.status_code == 200:\n",
    "  res = res.json()\n",
    "else:\n",
    "  print(res.status_code)\n",
    "\n",
    "res"
   ]
  }
 ],
 "metadata": {
  "kernelspec": {
   "display_name": "General",
   "language": "python",
   "name": "python3"
  },
  "language_info": {
   "name": "python",
   "version": "3.9.13 (main, Aug 25 2022, 23:51:50) [MSC v.1916 64 bit (AMD64)]"
  },
  "orig_nbformat": 4,
  "vscode": {
   "interpreter": {
    "hash": "81dbfd5a3ae3495a848b279e5fd3bd92e88d40341a5158fb2bc701ad8457fda9"
   }
  }
 },
 "nbformat": 4,
 "nbformat_minor": 2
}
