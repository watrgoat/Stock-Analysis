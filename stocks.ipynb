{
 "cells": [
  {
   "cell_type": "code",
   "execution_count": 12,
   "metadata": {},
   "outputs": [],
   "source": [
    "import os\n",
    "import bs4\n",
    "import pandas as pd\n",
    "from datetime import datetime\n",
    "import dateutil.relativedelta as dtr\n",
    "import yfinance as yf\n",
    "import matplotlib.pyplot as plt\n",
    "import seaborn"
   ]
  },
  {
   "attachments": {},
   "cell_type": "markdown",
   "metadata": {},
   "source": [
    "looking for the lowest price of any stock over the last month"
   ]
  },
  {
   "cell_type": "code",
   "execution_count": 31,
   "metadata": {},
   "outputs": [],
   "source": [
    "def get_hist(ticker):\n",
    "    tick = yf.Ticker(ticker)\n",
    "    return tick.history(period='1mo', interval='15m')"
   ]
  },
  {
   "cell_type": "code",
   "execution_count": 32,
   "metadata": {},
   "outputs": [
    {
     "name": "stdout",
     "output_type": "stream",
     "text": [
      "                                Open       High        Low      Close  Volume  \\\n",
      "Datetime                                                                        \n",
      "2023-01-03 09:30:00-05:00  61.529999  61.860001  61.380001  61.549999   82226   \n",
      "2023-01-03 09:45:00-05:00  61.549999  61.549999  61.220001  61.360001   73755   \n",
      "2023-01-03 10:00:00-05:00  61.380001  61.570000  61.380001  61.419998   48218   \n",
      "2023-01-03 10:15:00-05:00  61.400002  61.520000  61.310001  61.520000   35014   \n",
      "2023-01-03 10:30:00-05:00  61.540001  61.639999  61.430000  61.630001   39281   \n",
      "...                              ...        ...        ...        ...     ...   \n",
      "2023-01-31 15:00:00-05:00  60.020000  60.040001  59.810001  59.825001   41420   \n",
      "2023-01-31 15:15:00-05:00  59.828800  59.869999  59.724998  59.830002   68947   \n",
      "2023-01-31 15:30:00-05:00  59.830002  60.060001  59.820000  60.060001   79445   \n",
      "2023-01-31 15:45:00-05:00  60.040001  60.189999  59.985001  60.189999  210797   \n",
      "2023-01-31 16:00:00-05:00  60.189999  60.189999  60.189999  60.189999       0   \n",
      "\n",
      "                           Dividends  Stock Splits  \n",
      "Datetime                                            \n",
      "2023-01-03 09:30:00-05:00        0.0           0.0  \n",
      "2023-01-03 09:45:00-05:00        0.0           0.0  \n",
      "2023-01-03 10:00:00-05:00        0.0           0.0  \n",
      "2023-01-03 10:15:00-05:00        0.0           0.0  \n",
      "2023-01-03 10:30:00-05:00        0.0           0.0  \n",
      "...                              ...           ...  \n",
      "2023-01-31 15:00:00-05:00        0.0           0.0  \n",
      "2023-01-31 15:15:00-05:00        0.0           0.0  \n",
      "2023-01-31 15:30:00-05:00        0.0           0.0  \n",
      "2023-01-31 15:45:00-05:00        0.0           0.0  \n",
      "2023-01-31 16:00:00-05:00        0.0           0.0  \n",
      "\n",
      "[521 rows x 7 columns]\n"
     ]
    }
   ],
   "source": [
    "ticker = 'ndaq'\n",
    "hist = get_hist(ticker)"
   ]
  },
  {
   "cell_type": "code",
   "execution_count": 34,
   "metadata": {},
   "outputs": [],
   "source": [
    "def get_lowest_of_month(hist, ticker):\n",
    "    lows = hist.loc[hist['Low'] == min(hist['Low'])]\n",
    "    date = lows.reset_index()['Datetime'] # date and time of the lowest price in the last month\n",
    "    # date = date.dt.normalize\n",
    "    val = round(min(lows.reset_index()['Low']), 4)\n",
    "    print(f'Lowest cost of {ticker} in the last month: {val}')\n",
    "    print()\n",
    "    print(f'Date: {date}')"
   ]
  },
  {
   "cell_type": "code",
   "execution_count": 33,
   "metadata": {},
   "outputs": [
    {
     "ename": "KeyError",
     "evalue": "'Datetime'",
     "output_type": "error",
     "traceback": [
      "\u001b[1;31m---------------------------------------------------------------------------\u001b[0m",
      "\u001b[1;31mKeyError\u001b[0m                                  Traceback (most recent call last)",
      "File \u001b[1;32m~\\AppData\\Local\\Packages\\PythonSoftwareFoundation.Python.3.10_qbz5n2kfra8p0\\LocalCache\\local-packages\\Python310\\site-packages\\pandas\\core\\indexes\\base.py:3800\u001b[0m, in \u001b[0;36mIndex.get_loc\u001b[1;34m(self, key, method, tolerance)\u001b[0m\n\u001b[0;32m   3799\u001b[0m \u001b[39mtry\u001b[39;00m:\n\u001b[1;32m-> 3800\u001b[0m     \u001b[39mreturn\u001b[39;00m \u001b[39mself\u001b[39;49m\u001b[39m.\u001b[39;49m_engine\u001b[39m.\u001b[39;49mget_loc(casted_key)\n\u001b[0;32m   3801\u001b[0m \u001b[39mexcept\u001b[39;00m \u001b[39mKeyError\u001b[39;00m \u001b[39mas\u001b[39;00m err:\n",
      "File \u001b[1;32m~\\AppData\\Local\\Packages\\PythonSoftwareFoundation.Python.3.10_qbz5n2kfra8p0\\LocalCache\\local-packages\\Python310\\site-packages\\pandas\\_libs\\index.pyx:138\u001b[0m, in \u001b[0;36mpandas._libs.index.IndexEngine.get_loc\u001b[1;34m()\u001b[0m\n",
      "File \u001b[1;32m~\\AppData\\Local\\Packages\\PythonSoftwareFoundation.Python.3.10_qbz5n2kfra8p0\\LocalCache\\local-packages\\Python310\\site-packages\\pandas\\_libs\\index.pyx:165\u001b[0m, in \u001b[0;36mpandas._libs.index.IndexEngine.get_loc\u001b[1;34m()\u001b[0m\n",
      "File \u001b[1;32mpandas\\_libs\\hashtable_class_helper.pxi:5745\u001b[0m, in \u001b[0;36mpandas._libs.hashtable.PyObjectHashTable.get_item\u001b[1;34m()\u001b[0m\n",
      "File \u001b[1;32mpandas\\_libs\\hashtable_class_helper.pxi:5753\u001b[0m, in \u001b[0;36mpandas._libs.hashtable.PyObjectHashTable.get_item\u001b[1;34m()\u001b[0m\n",
      "\u001b[1;31mKeyError\u001b[0m: 'Datetime'",
      "\nThe above exception was the direct cause of the following exception:\n",
      "\u001b[1;31mKeyError\u001b[0m                                  Traceback (most recent call last)",
      "Cell \u001b[1;32mIn [33], line 1\u001b[0m\n\u001b[1;32m----> 1\u001b[0m get_lowest_of_month(hist, ticker)\n",
      "Cell \u001b[1;32mIn [27], line 3\u001b[0m, in \u001b[0;36mget_lowest_of_month\u001b[1;34m(hist, ticker)\u001b[0m\n\u001b[0;32m      1\u001b[0m \u001b[39mdef\u001b[39;00m \u001b[39mget_lowest_of_month\u001b[39m(hist, ticker):\n\u001b[0;32m      2\u001b[0m     lows \u001b[39m=\u001b[39m hist\u001b[39m.\u001b[39mloc[hist[\u001b[39m'\u001b[39m\u001b[39mLow\u001b[39m\u001b[39m'\u001b[39m] \u001b[39m==\u001b[39m \u001b[39mmin\u001b[39m(hist[\u001b[39m'\u001b[39m\u001b[39mLow\u001b[39m\u001b[39m'\u001b[39m])]\n\u001b[1;32m----> 3\u001b[0m     lows[\u001b[39m'\u001b[39;49m\u001b[39mDatetime\u001b[39;49m\u001b[39m'\u001b[39;49m]\u001b[39m.\u001b[39mdt\u001b[39m.\u001b[39mstrftime(\u001b[39mr\u001b[39m\u001b[39m'\u001b[39m\u001b[39m%\u001b[39m\u001b[39mY-\u001b[39m\u001b[39m%\u001b[39m\u001b[39mm-\u001b[39m\u001b[39m%d\u001b[39;00m\u001b[39m'\u001b[39m)\n\u001b[0;32m      4\u001b[0m     date \u001b[39m=\u001b[39m lows\u001b[39m.\u001b[39mreset_index()[\u001b[39m'\u001b[39m\u001b[39mDatetime\u001b[39m\u001b[39m'\u001b[39m] \u001b[39m# date and time of the lowest price in the last month\u001b[39;00m\n\u001b[0;32m      5\u001b[0m     \u001b[39m# date = date.dt.normalize\u001b[39;00m\n",
      "File \u001b[1;32m~\\AppData\\Local\\Packages\\PythonSoftwareFoundation.Python.3.10_qbz5n2kfra8p0\\LocalCache\\local-packages\\Python310\\site-packages\\pandas\\core\\frame.py:3805\u001b[0m, in \u001b[0;36mDataFrame.__getitem__\u001b[1;34m(self, key)\u001b[0m\n\u001b[0;32m   3803\u001b[0m \u001b[39mif\u001b[39;00m \u001b[39mself\u001b[39m\u001b[39m.\u001b[39mcolumns\u001b[39m.\u001b[39mnlevels \u001b[39m>\u001b[39m \u001b[39m1\u001b[39m:\n\u001b[0;32m   3804\u001b[0m     \u001b[39mreturn\u001b[39;00m \u001b[39mself\u001b[39m\u001b[39m.\u001b[39m_getitem_multilevel(key)\n\u001b[1;32m-> 3805\u001b[0m indexer \u001b[39m=\u001b[39m \u001b[39mself\u001b[39;49m\u001b[39m.\u001b[39;49mcolumns\u001b[39m.\u001b[39;49mget_loc(key)\n\u001b[0;32m   3806\u001b[0m \u001b[39mif\u001b[39;00m is_integer(indexer):\n\u001b[0;32m   3807\u001b[0m     indexer \u001b[39m=\u001b[39m [indexer]\n",
      "File \u001b[1;32m~\\AppData\\Local\\Packages\\PythonSoftwareFoundation.Python.3.10_qbz5n2kfra8p0\\LocalCache\\local-packages\\Python310\\site-packages\\pandas\\core\\indexes\\base.py:3802\u001b[0m, in \u001b[0;36mIndex.get_loc\u001b[1;34m(self, key, method, tolerance)\u001b[0m\n\u001b[0;32m   3800\u001b[0m     \u001b[39mreturn\u001b[39;00m \u001b[39mself\u001b[39m\u001b[39m.\u001b[39m_engine\u001b[39m.\u001b[39mget_loc(casted_key)\n\u001b[0;32m   3801\u001b[0m \u001b[39mexcept\u001b[39;00m \u001b[39mKeyError\u001b[39;00m \u001b[39mas\u001b[39;00m err:\n\u001b[1;32m-> 3802\u001b[0m     \u001b[39mraise\u001b[39;00m \u001b[39mKeyError\u001b[39;00m(key) \u001b[39mfrom\u001b[39;00m \u001b[39merr\u001b[39;00m\n\u001b[0;32m   3803\u001b[0m \u001b[39mexcept\u001b[39;00m \u001b[39mTypeError\u001b[39;00m:\n\u001b[0;32m   3804\u001b[0m     \u001b[39m# If we have a listlike key, _check_indexing_error will raise\u001b[39;00m\n\u001b[0;32m   3805\u001b[0m     \u001b[39m#  InvalidIndexError. Otherwise we fall through and re-raise\u001b[39;00m\n\u001b[0;32m   3806\u001b[0m     \u001b[39m#  the TypeError.\u001b[39;00m\n\u001b[0;32m   3807\u001b[0m     \u001b[39mself\u001b[39m\u001b[39m.\u001b[39m_check_indexing_error(key)\n",
      "\u001b[1;31mKeyError\u001b[0m: 'Datetime'"
     ]
    }
   ],
   "source": [
    "\n",
    "get_lowest_of_month(hist, ticker) # looking for the lowest price for nasdaq"
   ]
  }
 ],
 "metadata": {
  "kernelspec": {
   "display_name": "Python 3",
   "language": "python",
   "name": "python3"
  },
  "language_info": {
   "codemirror_mode": {
    "name": "ipython",
    "version": 3
   },
   "file_extension": ".py",
   "mimetype": "text/x-python",
   "name": "python",
   "nbconvert_exporter": "python",
   "pygments_lexer": "ipython3",
   "version": "3.10.9"
  },
  "orig_nbformat": 4,
  "vscode": {
   "interpreter": {
    "hash": "4c4b7abad336165b8b52684b07a1890cb56f9af1b6a4eff176a255c515c54d9f"
   }
  }
 },
 "nbformat": 4,
 "nbformat_minor": 2
}
