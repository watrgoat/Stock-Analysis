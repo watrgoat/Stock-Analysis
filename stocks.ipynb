{
 "cells": [
  {
   "cell_type": "code",
   "execution_count": 194,
   "metadata": {},
   "outputs": [],
   "source": [
    "import os\n",
    "import bs4\n",
    "import pandas as pd\n",
    "from datetime import datetime\n",
    "import dateutil.relativedelta as dtr\n",
    "import yfinance as yf\n",
    "import matplotlib.pyplot as plt\n",
    "import seaborn"
   ]
  },
  {
   "attachments": {},
   "cell_type": "markdown",
   "metadata": {},
   "source": [
    "looking for the lowest price of any stock over the last month"
   ]
  },
  {
   "cell_type": "code",
   "execution_count": 195,
   "metadata": {},
   "outputs": [],
   "source": [
    "def get_hist(tck, srch, time, ivl='1d'):\n",
    "    tick = yf.Ticker(tck)\n",
    "    df = tick.history(period=time, interval=ivl)\n",
    "\n",
    "    df = df[[srch]]\n",
    "\n",
    "    # reformat data\n",
    "    df = df.loc[::-1]\n",
    "    df = df.reset_index()\n",
    "\n",
    "    return df"
   ]
  },
  {
   "cell_type": "code",
   "execution_count": 205,
   "metadata": {},
   "outputs": [],
   "source": [
    "ticker = 'gc=f'\n",
    "search = 'High'\n",
    "hist = get_hist(ticker, search, '1mo')"
   ]
  },
  {
   "cell_type": "code",
   "execution_count": 207,
   "metadata": {},
   "outputs": [
    {
     "name": "stdout",
     "output_type": "stream",
     "text": [
      "The highest value of the gc=f in the last month was: 1959.1\n"
     ]
    }
   ],
   "source": [
    "print(f'The highest value of the {ticker} in the last month was: {round(hist[search].max(), 2)}')"
   ]
  },
  {
   "cell_type": "code",
   "execution_count": 208,
   "metadata": {},
   "outputs": [],
   "source": [
    "search = 'Low'\n",
    "hist = get_hist(ticker, search, '1wk')"
   ]
  },
  {
   "cell_type": "code",
   "execution_count": 209,
   "metadata": {},
   "outputs": [
    {
     "name": "stdout",
     "output_type": "stream",
     "text": [
      "The lowest value of gc=f in the last week was: 1861.5\n"
     ]
    }
   ],
   "source": [
    "print(f'The lowest value of {ticker} in the last week was: {round(hist[search].min(), 2)}')"
   ]
  },
  {
   "cell_type": "code",
   "execution_count": 201,
   "metadata": {},
   "outputs": [],
   "source": [
    "# significant differenct will be 3% difference"
   ]
  },
  {
   "cell_type": "code",
   "execution_count": 233,
   "metadata": {},
   "outputs": [],
   "source": [
    "search = 'Open'\n",
    "hist = get_hist(ticker, search, '2mo', '1d')\n",
    "first = hist.tail(1)\n",
    "last = hist.head(1)"
   ]
  },
  {
   "cell_type": "code",
   "execution_count": 203,
   "metadata": {},
   "outputs": [],
   "source": [
    "def get_change(current, previous):\n",
    "    if current == previous:\n",
    "        return 100.0\n",
    "    return ((current - previous) / previous) * 100.0"
   ]
  },
  {
   "cell_type": "code",
   "execution_count": 235,
   "metadata": {},
   "outputs": [
    {
     "name": "stdout",
     "output_type": "stream",
     "text": [
      "The change in Open over the last 2 months was 6.2%\n",
      "This change is signifanct\n"
     ]
    }
   ],
   "source": [
    "change = round(get_change(last[search].values[0], first[search].values[0]), 1)\n",
    "print(f'The change in {search} over the last 2 months was {change}%')\n",
    "if change > 3:\n",
    "    print('This change is signifanct')\n",
    "else:\n",
    "    print('This change is not signifanct')"
   ]
  }
 ],
 "metadata": {
  "kernelspec": {
   "display_name": "Python 3",
   "language": "python",
   "name": "python3"
  },
  "language_info": {
   "codemirror_mode": {
    "name": "ipython",
    "version": 3
   },
   "file_extension": ".py",
   "mimetype": "text/x-python",
   "name": "python",
   "nbconvert_exporter": "python",
   "pygments_lexer": "ipython3",
   "version": "3.9.13"
  },
  "orig_nbformat": 4,
  "vscode": {
   "interpreter": {
    "hash": "e0a5ddf9b513e83219ea6bd3930467f788913df11b150d8aba01e291efc327b8"
   }
  }
 },
 "nbformat": 4,
 "nbformat_minor": 2
}
